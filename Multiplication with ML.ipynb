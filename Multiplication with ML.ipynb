{
 "cells": [
  {
   "cell_type": "code",
   "execution_count": 12,
   "id": "4a22d72e",
   "metadata": {},
   "outputs": [],
   "source": [
    "import pandas as pd\n",
    "import time\n",
    "import numpy as np\n",
    "from sklearn.model_selection import train_test_split\n",
    "from sklearn.linear_model import LinearRegression\n",
    "from sklearn.ensemble import RandomForestRegressor\n",
    "from lightgbm import LGBMRegressor\n",
    "from xgboost import XGBRegressor\n",
    "from sklearn.svm import SVR\n",
    "import seaborn as sns\n",
    "from sklearn.metrics import mean_absolute_percentage_error, mean_squared_error"
   ]
  },
  {
   "cell_type": "markdown",
   "id": "06ba3694",
   "metadata": {},
   "source": [
    "# Generating Data"
   ]
  },
  {
   "cell_type": "code",
   "execution_count": 2,
   "id": "26f89128",
   "metadata": {},
   "outputs": [],
   "source": [
    "df = pd.DataFrame()\n",
    "df['first_digit'] = [x for x in range(1,1001)]\n",
    "df['pk'] = 1"
   ]
  },
  {
   "cell_type": "code",
   "execution_count": 3,
   "id": "5de1adb3",
   "metadata": {},
   "outputs": [],
   "source": [
    "df2 = df.merge(df,on='pk',how='outer').drop('pk',axis=1)"
   ]
  },
  {
   "cell_type": "code",
   "execution_count": 4,
   "id": "7029944e",
   "metadata": {},
   "outputs": [
    {
     "data": {
      "text/html": [
       "<div>\n",
       "<style scoped>\n",
       "    .dataframe tbody tr th:only-of-type {\n",
       "        vertical-align: middle;\n",
       "    }\n",
       "\n",
       "    .dataframe tbody tr th {\n",
       "        vertical-align: top;\n",
       "    }\n",
       "\n",
       "    .dataframe thead th {\n",
       "        text-align: right;\n",
       "    }\n",
       "</style>\n",
       "<table border=\"1\" class=\"dataframe\">\n",
       "  <thead>\n",
       "    <tr style=\"text-align: right;\">\n",
       "      <th></th>\n",
       "      <th>first_digit_x</th>\n",
       "      <th>first_digit_y</th>\n",
       "    </tr>\n",
       "  </thead>\n",
       "  <tbody>\n",
       "    <tr>\n",
       "      <th>0</th>\n",
       "      <td>1</td>\n",
       "      <td>1</td>\n",
       "    </tr>\n",
       "    <tr>\n",
       "      <th>1</th>\n",
       "      <td>1</td>\n",
       "      <td>2</td>\n",
       "    </tr>\n",
       "    <tr>\n",
       "      <th>2</th>\n",
       "      <td>1</td>\n",
       "      <td>3</td>\n",
       "    </tr>\n",
       "    <tr>\n",
       "      <th>3</th>\n",
       "      <td>1</td>\n",
       "      <td>4</td>\n",
       "    </tr>\n",
       "    <tr>\n",
       "      <th>4</th>\n",
       "      <td>1</td>\n",
       "      <td>5</td>\n",
       "    </tr>\n",
       "  </tbody>\n",
       "</table>\n",
       "</div>"
      ],
      "text/plain": [
       "   first_digit_x  first_digit_y\n",
       "0              1              1\n",
       "1              1              2\n",
       "2              1              3\n",
       "3              1              4\n",
       "4              1              5"
      ]
     },
     "execution_count": 4,
     "metadata": {},
     "output_type": "execute_result"
    }
   ],
   "source": [
    "df2.head()"
   ]
  },
  {
   "cell_type": "code",
   "execution_count": 5,
   "id": "06a569d0",
   "metadata": {},
   "outputs": [
    {
     "data": {
      "text/plain": [
       "(1000000, 2)"
      ]
     },
     "execution_count": 5,
     "metadata": {},
     "output_type": "execute_result"
    }
   ],
   "source": [
    "df2.shape"
   ]
  },
  {
   "cell_type": "code",
   "execution_count": 6,
   "id": "c7be8ea7",
   "metadata": {},
   "outputs": [],
   "source": [
    "df2.rename(columns={'first_digit_x':'first_digit','first_digit_y':'second_digit'},inplace=True)"
   ]
  },
  {
   "cell_type": "code",
   "execution_count": 7,
   "id": "17db94be",
   "metadata": {},
   "outputs": [
    {
     "data": {
      "text/html": [
       "<div>\n",
       "<style scoped>\n",
       "    .dataframe tbody tr th:only-of-type {\n",
       "        vertical-align: middle;\n",
       "    }\n",
       "\n",
       "    .dataframe tbody tr th {\n",
       "        vertical-align: top;\n",
       "    }\n",
       "\n",
       "    .dataframe thead th {\n",
       "        text-align: right;\n",
       "    }\n",
       "</style>\n",
       "<table border=\"1\" class=\"dataframe\">\n",
       "  <thead>\n",
       "    <tr style=\"text-align: right;\">\n",
       "      <th></th>\n",
       "      <th>first_digit</th>\n",
       "      <th>second_digit</th>\n",
       "    </tr>\n",
       "  </thead>\n",
       "  <tbody>\n",
       "    <tr>\n",
       "      <th>0</th>\n",
       "      <td>1</td>\n",
       "      <td>1</td>\n",
       "    </tr>\n",
       "    <tr>\n",
       "      <th>1</th>\n",
       "      <td>1</td>\n",
       "      <td>2</td>\n",
       "    </tr>\n",
       "    <tr>\n",
       "      <th>2</th>\n",
       "      <td>1</td>\n",
       "      <td>3</td>\n",
       "    </tr>\n",
       "    <tr>\n",
       "      <th>3</th>\n",
       "      <td>1</td>\n",
       "      <td>4</td>\n",
       "    </tr>\n",
       "    <tr>\n",
       "      <th>4</th>\n",
       "      <td>1</td>\n",
       "      <td>5</td>\n",
       "    </tr>\n",
       "  </tbody>\n",
       "</table>\n",
       "</div>"
      ],
      "text/plain": [
       "   first_digit  second_digit\n",
       "0            1             1\n",
       "1            1             2\n",
       "2            1             3\n",
       "3            1             4\n",
       "4            1             5"
      ]
     },
     "execution_count": 7,
     "metadata": {},
     "output_type": "execute_result"
    }
   ],
   "source": [
    "df2.head()"
   ]
  },
  {
   "cell_type": "markdown",
   "id": "d34b899f",
   "metadata": {},
   "source": [
    "Creation of Predict Column (Product of Digit 1 and 2)"
   ]
  },
  {
   "cell_type": "code",
   "execution_count": 8,
   "id": "b623e2cc",
   "metadata": {},
   "outputs": [],
   "source": [
    "df2['product'] = df2[\"first_digit\"]*df2[\"second_digit\"]"
   ]
  },
  {
   "cell_type": "code",
   "execution_count": 9,
   "id": "3599518b",
   "metadata": {},
   "outputs": [
    {
     "data": {
      "text/html": [
       "<div>\n",
       "<style scoped>\n",
       "    .dataframe tbody tr th:only-of-type {\n",
       "        vertical-align: middle;\n",
       "    }\n",
       "\n",
       "    .dataframe tbody tr th {\n",
       "        vertical-align: top;\n",
       "    }\n",
       "\n",
       "    .dataframe thead th {\n",
       "        text-align: right;\n",
       "    }\n",
       "</style>\n",
       "<table border=\"1\" class=\"dataframe\">\n",
       "  <thead>\n",
       "    <tr style=\"text-align: right;\">\n",
       "      <th></th>\n",
       "      <th>first_digit</th>\n",
       "      <th>second_digit</th>\n",
       "      <th>product</th>\n",
       "    </tr>\n",
       "  </thead>\n",
       "  <tbody>\n",
       "    <tr>\n",
       "      <th>999995</th>\n",
       "      <td>1000</td>\n",
       "      <td>996</td>\n",
       "      <td>996000</td>\n",
       "    </tr>\n",
       "    <tr>\n",
       "      <th>999996</th>\n",
       "      <td>1000</td>\n",
       "      <td>997</td>\n",
       "      <td>997000</td>\n",
       "    </tr>\n",
       "    <tr>\n",
       "      <th>999997</th>\n",
       "      <td>1000</td>\n",
       "      <td>998</td>\n",
       "      <td>998000</td>\n",
       "    </tr>\n",
       "    <tr>\n",
       "      <th>999998</th>\n",
       "      <td>1000</td>\n",
       "      <td>999</td>\n",
       "      <td>999000</td>\n",
       "    </tr>\n",
       "    <tr>\n",
       "      <th>999999</th>\n",
       "      <td>1000</td>\n",
       "      <td>1000</td>\n",
       "      <td>1000000</td>\n",
       "    </tr>\n",
       "  </tbody>\n",
       "</table>\n",
       "</div>"
      ],
      "text/plain": [
       "        first_digit  second_digit  product\n",
       "999995         1000           996   996000\n",
       "999996         1000           997   997000\n",
       "999997         1000           998   998000\n",
       "999998         1000           999   999000\n",
       "999999         1000          1000  1000000"
      ]
     },
     "execution_count": 9,
     "metadata": {},
     "output_type": "execute_result"
    }
   ],
   "source": [
    "df2.tail()"
   ]
  },
  {
   "cell_type": "markdown",
   "id": "4c74016e",
   "metadata": {},
   "source": [
    "# Train Test Split"
   ]
  },
  {
   "cell_type": "code",
   "execution_count": 10,
   "id": "7c3ccd95",
   "metadata": {},
   "outputs": [],
   "source": [
    "X = df2.drop('product',axis=1)\n",
    "y = df2['product']\n",
    "\n",
    "X_train, X_test, y_train, y_test = train_test_split(X, y, test_size=0.2, random_state=42)"
   ]
  },
  {
   "cell_type": "markdown",
   "id": "1007feeb",
   "metadata": {},
   "source": [
    "# Model Training"
   ]
  },
  {
   "cell_type": "code",
   "execution_count": 13,
   "id": "27a23e95",
   "metadata": {},
   "outputs": [
    {
     "name": "stdout",
     "output_type": "stream",
     "text": [
      "LR Model Trained: 0.0720815658569336\n",
      "RF Model Trained: 180.18461346626282\n",
      "LGBM Model Trained: 11.625603675842285\n",
      "XGB Model Trained: 39.76494646072388\n",
      "Wall time: 3min 52s\n"
     ]
    }
   ],
   "source": [
    "%%time\n",
    "#linear-regression\n",
    "lr_time_start = time.time()\n",
    "lr = LinearRegression()\n",
    "lr.fit(X_train,y_train)\n",
    "lr_time_stop = time.time()\n",
    "print(f\"LR Model Trained: {lr_time_stop-lr_time_start}\")\n",
    "\n",
    "#random-forest\n",
    "rf_time_start = time.time()\n",
    "rf = RandomForestRegressor()\n",
    "rf.fit(X_train,y_train)\n",
    "rf_time_stop = time.time()\n",
    "print(f\"RF Model Trained: {rf_time_stop-rf_time_start}\")\n",
    "\n",
    "#lgbm\n",
    "lgbm_time_start = time.time()\n",
    "lgr = LGBMRegressor()\n",
    "lgr.fit(X_train,y_train)\n",
    "lgbm_time_stop = time.time()\n",
    "print(f\"LGBM Model Trained: {lgbm_time_stop-lgbm_time_start}\")\n",
    "\n",
    "#xgboost\n",
    "xgb_time_start = time.time()\n",
    "xgb = XGBRegressor()\n",
    "xgb.fit(X_train,y_train)\n",
    "xgb_time_stop = time.time()\n",
    "print(f\"XGB Model Trained: {xgb_time_stop-xgb_time_start}\")\n"
   ]
  },
  {
   "cell_type": "markdown",
   "id": "d01bf8b1",
   "metadata": {},
   "source": [
    "# Model Prediction"
   ]
  },
  {
   "cell_type": "code",
   "execution_count": 14,
   "id": "70b74b2b",
   "metadata": {},
   "outputs": [
    {
     "name": "stdout",
     "output_type": "stream",
     "text": [
      "Wall time: 16min 1s\n",
      "Parser   : 132 ms\n"
     ]
    }
   ],
   "source": [
    "%%time\n",
    "result = dict()\n",
    "\n",
    "#linear-regression\n",
    "result['lr_predict'] = lr.predict(X_test)\n",
    "\n",
    "#random forest predict\n",
    "result['rf_predict'] = rf.predict(X_test)\n",
    "\n",
    "#lgbm prediction\n",
    "result['lgr_predict'] = lgr.predict(X_test)\n",
    "\n",
    "#xgboost\n",
    "result['xgb_predict'] = xgb.predict(X_test)\n",
    "\n",
    "\n",
    "\n"
   ]
  },
  {
   "cell_type": "markdown",
   "id": "2afcf8b2",
   "metadata": {},
   "source": [
    "# Performance Metrics"
   ]
  },
  {
   "cell_type": "code",
   "execution_count": null,
   "id": "f581402f",
   "metadata": {},
   "outputs": [],
   "source": [
    "# print(f\"RMSE Linear Regression: {np.sqrt(mean_squared_error(y_test,lr_predict))}\")\n",
    "# print(f\"RMSE Random Forest: {np.sqrt(mean_squared_error(y_test,rf_predict))} \")\n",
    "# print(f\"MAPE Linear Regression: {mean_absolute_percentage_error(y_test,lr_predict)}\")\n",
    "# print(f\"MAPE Random Forest: {mean_absolute_percentage_error(y_test,rf_predict)} \")"
   ]
  },
  {
   "cell_type": "code",
   "execution_count": 16,
   "id": "909ee40a",
   "metadata": {},
   "outputs": [],
   "source": [
    "model_list = ['lr','rf','lgr','xgb']\n",
    "result_metric = pd.DataFrame()\n",
    "mape_list = []\n",
    "rmse_list = []\n",
    "for name in model_list:\n",
    "    mape_list.append(mean_absolute_percentage_error(y_test,result[name+'_predict']))\n",
    "    rmse_list.append(np.sqrt(mean_squared_error(y_test,result[name+'_predict'])))\n",
    "    \n",
    "result_metric['model'] = model_list\n",
    "result_metric['rmse'] = rmse_list\n",
    "result_metric['mape'] = mape_list"
   ]
  },
  {
   "cell_type": "code",
   "execution_count": 28,
   "id": "e29b4b30",
   "metadata": {},
   "outputs": [
    {
     "data": {
      "text/html": [
       "<div>\n",
       "<style scoped>\n",
       "    .dataframe tbody tr th:only-of-type {\n",
       "        vertical-align: middle;\n",
       "    }\n",
       "\n",
       "    .dataframe tbody tr th {\n",
       "        vertical-align: top;\n",
       "    }\n",
       "\n",
       "    .dataframe thead th {\n",
       "        text-align: right;\n",
       "    }\n",
       "</style>\n",
       "<table border=\"1\" class=\"dataframe\">\n",
       "  <thead>\n",
       "    <tr style=\"text-align: right;\">\n",
       "      <th></th>\n",
       "      <th>model</th>\n",
       "      <th>rmse</th>\n",
       "      <th>mape</th>\n",
       "    </tr>\n",
       "  </thead>\n",
       "  <tbody>\n",
       "    <tr>\n",
       "      <th>0</th>\n",
       "      <td>lr</td>\n",
       "      <td>83290.710682</td>\n",
       "      <td>9.910874</td>\n",
       "    </tr>\n",
       "    <tr>\n",
       "      <th>1</th>\n",
       "      <td>rf</td>\n",
       "      <td>131.469938</td>\n",
       "      <td>0.000620</td>\n",
       "    </tr>\n",
       "    <tr>\n",
       "      <th>2</th>\n",
       "      <td>lgr</td>\n",
       "      <td>2662.215438</td>\n",
       "      <td>0.086208</td>\n",
       "    </tr>\n",
       "    <tr>\n",
       "      <th>3</th>\n",
       "      <td>xgb</td>\n",
       "      <td>2388.688438</td>\n",
       "      <td>0.032482</td>\n",
       "    </tr>\n",
       "  </tbody>\n",
       "</table>\n",
       "</div>"
      ],
      "text/plain": [
       "  model          rmse      mape\n",
       "0    lr  83290.710682  9.910874\n",
       "1    rf    131.469938  0.000620\n",
       "2   lgr   2662.215438  0.086208\n",
       "3   xgb   2388.688438  0.032482"
      ]
     },
     "execution_count": 28,
     "metadata": {},
     "output_type": "execute_result"
    }
   ],
   "source": [
    "result_metric"
   ]
  },
  {
   "cell_type": "markdown",
   "id": "4fe72ea6",
   "metadata": {},
   "source": [
    "# Plots"
   ]
  },
  {
   "cell_type": "code",
   "execution_count": 17,
   "id": "b2f5ada5",
   "metadata": {},
   "outputs": [
    {
     "data": {
      "text/plain": [
       "<AxesSubplot:xlabel='model', ylabel='mape'>"
      ]
     },
     "execution_count": 17,
     "metadata": {},
     "output_type": "execute_result"
    },
    {
     "data": {
      "image/png": "[encoded data removed]",
      "text/plain": [
       "<Figure size 432x288 with 1 Axes>"
      ]
     },
     "metadata": {
      "needs_background": "light"
     },
     "output_type": "display_data"
    }
   ],
   "source": [
    "#MAPE Plot\n",
    "sns.barplot(x='model',y='mape',data=result_metric)"
   ]
  },
  {
   "cell_type": "code",
   "execution_count": 18,
   "id": "73d820b6",
   "metadata": {},
   "outputs": [
    {
     "data": {
      "text/plain": [
       "<AxesSubplot:xlabel='model', ylabel='rmse'>"
      ]
     },
     "execution_count": 18,
     "metadata": {},
     "output_type": "execute_result"
    },
    {
     "data": {
      "image/png": "[encoded data removed]",
      "text/plain": [
       "<Figure size 432x288 with 1 Axes>"
      ]
     },
     "metadata": {
      "needs_background": "light"
     },
     "output_type": "display_data"
    }
   ],
   "source": [
    "#RMSE Plot\n",
    "sns.barplot(x='model',y='rmse',data=result_metric)"
   ]
  },
  {
   "cell_type": "markdown",
   "id": "3eb799fa",
   "metadata": {},
   "source": [
    "### Linear Regression Plot"
   ]
  },
  {
   "cell_type": "code",
   "execution_count": 19,
   "id": "d4749c2b",
   "metadata": {},
   "outputs": [
    {
     "name": "stderr",
     "output_type": "stream",
     "text": [
      "C:\\Users\\Himanshu\\anaconda3\\lib\\site-packages\\seaborn\\distributions.py:2619: FutureWarning: `distplot` is a deprecated function and will be removed in a future version. Please adapt your code to use either `displot` (a figure-level function with similar flexibility) or `histplot` (an axes-level function for histograms).\n",
      "  warnings.warn(msg, FutureWarning)\n"
     ]
    },
    {
     "data": {
      "text/plain": [
       "<AxesSubplot:xlabel='product', ylabel='Density'>"
      ]
     },
     "execution_count": 19,
     "metadata": {},
     "output_type": "execute_result"
    },
    {
     "data": {
      "image/png": "[encoded data removed]",
      "text/plain": [
       "<Figure size 432x288 with 1 Axes>"
      ]
     },
     "metadata": {
      "needs_background": "light"
     },
     "output_type": "display_data"
    }
   ],
   "source": [
    "sns.distplot(y_test-result['lr_predict'])"
   ]
  },
  {
   "cell_type": "markdown",
   "id": "530dbe68",
   "metadata": {},
   "source": [
    "### Random Forest Plot"
   ]
  },
  {
   "cell_type": "code",
   "execution_count": 29,
   "id": "b297d25e",
   "metadata": {},
   "outputs": [
    {
     "name": "stderr",
     "output_type": "stream",
     "text": [
      "C:\\Users\\Himanshu\\anaconda3\\lib\\site-packages\\seaborn\\distributions.py:2619: FutureWarning: `distplot` is a deprecated function and will be removed in a future version. Please adapt your code to use either `displot` (a figure-level function with similar flexibility) or `histplot` (an axes-level function for histograms).\n",
      "  warnings.warn(msg, FutureWarning)\n"
     ]
    },
    {
     "data": {
      "text/plain": [
       "<AxesSubplot:xlabel='product', ylabel='Density'>"
      ]
     },
     "execution_count": 29,
     "metadata": {},
     "output_type": "execute_result"
    },
    {
     "data": {
      "image/png": "[encoded data removed]",
      "text/plain": [
       "<Figure size 432x288 with 1 Axes>"
      ]
     },
     "metadata": {
      "needs_background": "light"
     },
     "output_type": "display_data"
    }
   ],
   "source": [
    "sns.distplot(y_test-result['rf_predict'],label='Random Forest')"
   ]
  },
  {
   "cell_type": "markdown",
   "id": "dc70a462",
   "metadata": {},
   "source": [
    "### LGBM Plot"
   ]
  },
  {
   "cell_type": "code",
   "execution_count": 21,
   "id": "a06ab4b6",
   "metadata": {},
   "outputs": [
    {
     "name": "stderr",
     "output_type": "stream",
     "text": [
      "C:\\Users\\Himanshu\\anaconda3\\lib\\site-packages\\seaborn\\distributions.py:2619: FutureWarning: `distplot` is a deprecated function and will be removed in a future version. Please adapt your code to use either `displot` (a figure-level function with similar flexibility) or `histplot` (an axes-level function for histograms).\n",
      "  warnings.warn(msg, FutureWarning)\n"
     ]
    },
    {
     "data": {
      "text/plain": [
       "<AxesSubplot:xlabel='product', ylabel='Density'>"
      ]
     },
     "execution_count": 21,
     "metadata": {},
     "output_type": "execute_result"
    },
    {
     "data": {
      "image/png": "[encoded data removed]",
      "text/plain": [
       "<Figure size 432x288 with 1 Axes>"
      ]
     },
     "metadata": {
      "needs_background": "light"
     },
     "output_type": "display_data"
    }
   ],
   "source": [
    "sns.distplot(y_test-result['lgr_predict'])"
   ]
  },
  {
   "cell_type": "markdown",
   "id": "753e881b",
   "metadata": {},
   "source": [
    "### XGB Plot"
   ]
  },
  {
   "cell_type": "code",
   "execution_count": 22,
   "id": "da3eb5bb",
   "metadata": {},
   "outputs": [
    {
     "name": "stderr",
     "output_type": "stream",
     "text": [
      "C:\\Users\\Himanshu\\anaconda3\\lib\\site-packages\\seaborn\\distributions.py:2619: FutureWarning: `distplot` is a deprecated function and will be removed in a future version. Please adapt your code to use either `displot` (a figure-level function with similar flexibility) or `histplot` (an axes-level function for histograms).\n",
      "  warnings.warn(msg, FutureWarning)\n"
     ]
    },
    {
     "data": {
      "text/plain": [
       "<AxesSubplot:xlabel='product', ylabel='Density'>"
      ]
     },
     "execution_count": 22,
     "metadata": {},
     "output_type": "execute_result"
    },
    {
     "data": {
      "image/png": "[encoded data removed]",
      "text/plain": [
       "<Figure size 432x288 with 1 Axes>"
      ]
     },
     "metadata": {
      "needs_background": "light"
     },
     "output_type": "display_data"
    }
   ],
   "source": [
    "sns.distplot(y_test-result['xgb_predict'])"
   ]
  },
  {
   "cell_type": "markdown",
   "id": "daaaca00",
   "metadata": {},
   "source": [
    "# Sample Output"
   ]
  },
  {
   "cell_type": "code",
   "execution_count": 25,
   "id": "65b426fe",
   "metadata": {},
   "outputs": [
    {
     "name": "stderr",
     "output_type": "stream",
     "text": [
      "C:\\Users\\Himanshu\\AppData\\Local\\Temp/ipykernel_8772/2671227157.py:2: SettingWithCopyWarning: \n",
      "A value is trying to be set on a copy of a slice from a DataFrame.\n",
      "Try using .loc[row_indexer,col_indexer] = value instead\n",
      "\n",
      "See the caveats in the documentation: https://pandas.pydata.org/pandas-docs/stable/user_guide/indexing.html#returning-a-view-versus-a-copy\n",
      "  output['actual'] = y_test\n",
      "C:\\Users\\Himanshu\\AppData\\Local\\Temp/ipykernel_8772/2671227157.py:3: SettingWithCopyWarning: \n",
      "A value is trying to be set on a copy of a slice from a DataFrame.\n",
      "Try using .loc[row_indexer,col_indexer] = value instead\n",
      "\n",
      "See the caveats in the documentation: https://pandas.pydata.org/pandas-docs/stable/user_guide/indexing.html#returning-a-view-versus-a-copy\n",
      "  output['lr_preds'] = result['lr_predict']\n",
      "C:\\Users\\Himanshu\\AppData\\Local\\Temp/ipykernel_8772/2671227157.py:4: SettingWithCopyWarning: \n",
      "A value is trying to be set on a copy of a slice from a DataFrame.\n",
      "Try using .loc[row_indexer,col_indexer] = value instead\n",
      "\n",
      "See the caveats in the documentation: https://pandas.pydata.org/pandas-docs/stable/user_guide/indexing.html#returning-a-view-versus-a-copy\n",
      "  output['rf_preds'] = result['rf_predict']\n",
      "C:\\Users\\Himanshu\\AppData\\Local\\Temp/ipykernel_8772/2671227157.py:5: SettingWithCopyWarning: \n",
      "A value is trying to be set on a copy of a slice from a DataFrame.\n",
      "Try using .loc[row_indexer,col_indexer] = value instead\n",
      "\n",
      "See the caveats in the documentation: https://pandas.pydata.org/pandas-docs/stable/user_guide/indexing.html#returning-a-view-versus-a-copy\n",
      "  output['lgbm_preds'] = result['lgr_predict']\n",
      "C:\\Users\\Himanshu\\AppData\\Local\\Temp/ipykernel_8772/2671227157.py:6: SettingWithCopyWarning: \n",
      "A value is trying to be set on a copy of a slice from a DataFrame.\n",
      "Try using .loc[row_indexer,col_indexer] = value instead\n",
      "\n",
      "See the caveats in the documentation: https://pandas.pydata.org/pandas-docs/stable/user_guide/indexing.html#returning-a-view-versus-a-copy\n",
      "  output['xgb_preds'] = result['xgb_predict']\n"
     ]
    }
   ],
   "source": [
    "output = X_test\n",
    "output['actual'] = y_test\n",
    "output['lr_preds'] = result['lr_predict']\n",
    "output['rf_preds'] = result['rf_predict']\n",
    "output['lgbm_preds'] = result['lgr_predict']\n",
    "output['xgb_preds'] = result['xgb_predict']"
   ]
  },
  {
   "cell_type": "code",
   "execution_count": 27,
   "id": "390a7b0f",
   "metadata": {},
   "outputs": [
    {
     "data": {
      "text/html": [
       "<div>\n",
       "<style scoped>\n",
       "    .dataframe tbody tr th:only-of-type {\n",
       "        vertical-align: middle;\n",
       "    }\n",
       "\n",
       "    .dataframe tbody tr th {\n",
       "        vertical-align: top;\n",
       "    }\n",
       "\n",
       "    .dataframe thead th {\n",
       "        text-align: right;\n",
       "    }\n",
       "</style>\n",
       "<table border=\"1\" class=\"dataframe\">\n",
       "  <thead>\n",
       "    <tr style=\"text-align: right;\">\n",
       "      <th></th>\n",
       "      <th>first_digit</th>\n",
       "      <th>second_digit</th>\n",
       "      <th>actual</th>\n",
       "      <th>lr_preds</th>\n",
       "      <th>rf_preds</th>\n",
       "      <th>lgbm_preds</th>\n",
       "      <th>xgb_preds</th>\n",
       "    </tr>\n",
       "  </thead>\n",
       "  <tbody>\n",
       "    <tr>\n",
       "      <th>987231</th>\n",
       "      <td>988</td>\n",
       "      <td>232</td>\n",
       "      <td>229216</td>\n",
       "      <td>359998.497500</td>\n",
       "      <td>229107.48</td>\n",
       "      <td>224496.385311</td>\n",
       "      <td>230681.906250</td>\n",
       "    </tr>\n",
       "    <tr>\n",
       "      <th>79954</th>\n",
       "      <td>80</td>\n",
       "      <td>955</td>\n",
       "      <td>76400</td>\n",
       "      <td>267464.741612</td>\n",
       "      <td>76366.40</td>\n",
       "      <td>75345.929585</td>\n",
       "      <td>75733.351562</td>\n",
       "    </tr>\n",
       "    <tr>\n",
       "      <th>567130</th>\n",
       "      <td>568</td>\n",
       "      <td>131</td>\n",
       "      <td>74408</td>\n",
       "      <td>99227.383461</td>\n",
       "      <td>74470.07</td>\n",
       "      <td>76534.373474</td>\n",
       "      <td>74741.757812</td>\n",
       "    </tr>\n",
       "    <tr>\n",
       "      <th>500891</th>\n",
       "      <td>501</td>\n",
       "      <td>892</td>\n",
       "      <td>446892</td>\n",
       "      <td>446640.128118</td>\n",
       "      <td>446718.70</td>\n",
       "      <td>449977.185604</td>\n",
       "      <td>449500.406250</td>\n",
       "    </tr>\n",
       "    <tr>\n",
       "      <th>55399</th>\n",
       "      <td>56</td>\n",
       "      <td>400</td>\n",
       "      <td>22400</td>\n",
       "      <td>-22373.027014</td>\n",
       "      <td>22371.86</td>\n",
       "      <td>20784.822985</td>\n",
       "      <td>23189.798828</td>\n",
       "    </tr>\n",
       "    <tr>\n",
       "      <th>135049</th>\n",
       "      <td>136</td>\n",
       "      <td>50</td>\n",
       "      <td>6800</td>\n",
       "      <td>-157538.047811</td>\n",
       "      <td>6790.39</td>\n",
       "      <td>7400.050216</td>\n",
       "      <td>5965.392578</td>\n",
       "    </tr>\n",
       "    <tr>\n",
       "      <th>733378</th>\n",
       "      <td>734</td>\n",
       "      <td>379</td>\n",
       "      <td>278186</td>\n",
       "      <td>306456.635820</td>\n",
       "      <td>278094.27</td>\n",
       "      <td>280895.507783</td>\n",
       "      <td>288588.062500</td>\n",
       "    </tr>\n",
       "    <tr>\n",
       "      <th>732057</th>\n",
       "      <td>733</td>\n",
       "      <td>58</td>\n",
       "      <td>42514</td>\n",
       "      <td>145267.775005</td>\n",
       "      <td>42508.20</td>\n",
       "      <td>42988.111823</td>\n",
       "      <td>43026.046875</td>\n",
       "    </tr>\n",
       "    <tr>\n",
       "      <th>51333</th>\n",
       "      <td>52</td>\n",
       "      <td>334</td>\n",
       "      <td>17368</td>\n",
       "      <td>-57413.772113</td>\n",
       "      <td>17350.10</td>\n",
       "      <td>16041.192381</td>\n",
       "      <td>14137.807617</td>\n",
       "    </tr>\n",
       "    <tr>\n",
       "      <th>731479</th>\n",
       "      <td>732</td>\n",
       "      <td>480</td>\n",
       "      <td>351360</td>\n",
       "      <td>356014.891804</td>\n",
       "      <td>351244.69</td>\n",
       "      <td>349761.449046</td>\n",
       "      <td>351072.781250</td>\n",
       "    </tr>\n",
       "  </tbody>\n",
       "</table>\n",
       "</div>"
      ],
      "text/plain": [
       "        first_digit  second_digit  actual       lr_preds   rf_preds  \\\n",
       "987231          988           232  229216  359998.497500  229107.48   \n",
       "79954            80           955   76400  267464.741612   76366.40   \n",
       "567130          568           131   74408   99227.383461   74470.07   \n",
       "500891          501           892  446892  446640.128118  446718.70   \n",
       "55399            56           400   22400  -22373.027014   22371.86   \n",
       "135049          136            50    6800 -157538.047811    6790.39   \n",
       "733378          734           379  278186  306456.635820  278094.27   \n",
       "732057          733            58   42514  145267.775005   42508.20   \n",
       "51333            52           334   17368  -57413.772113   17350.10   \n",
       "731479          732           480  351360  356014.891804  351244.69   \n",
       "\n",
       "           lgbm_preds      xgb_preds  \n",
       "987231  224496.385311  230681.906250  \n",
       "79954    75345.929585   75733.351562  \n",
       "567130   76534.373474   74741.757812  \n",
       "500891  449977.185604  449500.406250  \n",
       "55399    20784.822985   23189.798828  \n",
       "135049    7400.050216    5965.392578  \n",
       "733378  280895.507783  288588.062500  \n",
       "732057   42988.111823   43026.046875  \n",
       "51333    16041.192381   14137.807617  \n",
       "731479  349761.449046  351072.781250  "
      ]
     },
     "execution_count": 27,
     "metadata": {},
     "output_type": "execute_result"
    }
   ],
   "source": [
    "output.head(10)"
   ]
  },
  {
   "cell_type": "code",
   "execution_count": null,
   "id": "2b583f47",
   "metadata": {},
   "outputs": [],
   "source": []
  }
 ],
 "metadata": {
  "kernelspec": {
   "display_name": "Python 3 (ipykernel)",
   "language": "python",
   "name": "python3"
  },
  "language_info": {
   "codemirror_mode": {
    "name": "ipython",
    "version": 3
   },
   "file_extension": ".py",
   "mimetype": "text/x-python",
   "name": "python",
   "nbconvert_exporter": "python",
   "pygments_lexer": "ipython3",
   "version": "3.9.7"
  }
 },
 "nbformat": 4,
 "nbformat_minor": 5
}
